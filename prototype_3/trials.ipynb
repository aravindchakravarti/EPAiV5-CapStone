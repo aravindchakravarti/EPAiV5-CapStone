{
 "cells": [
  {
   "cell_type": "code",
   "execution_count": 4,
   "metadata": {},
   "outputs": [
    {
     "name": "stderr",
     "output_type": "stream",
     "text": [
      "c:\\Users\\achakravarti\\AppData\\Local\\anaconda3\\envs\\general\\Lib\\site-packages\\tqdm\\auto.py:21: TqdmWarning: IProgress not found. Please update jupyter and ipywidgets. See https://ipywidgets.readthedocs.io/en/stable/user_install.html\n",
      "  from .autonotebook import tqdm as notebook_tqdm\n",
      "2025-02-28 15:41:39,880 - INFO - HTTP Request: GET https://api.gradio.app/gradio-messaging/en \"HTTP/1.1 200 OK\"\n"
     ]
    }
   ],
   "source": [
    "import os\n",
    "import json\n",
    "import logging\n",
    "import inspect\n",
    "import importlib.util\n",
    "from google import genai\n",
    "from google.genai import types\n",
    "from dotenv import load_dotenv, find_dotenv\n",
    "from typing import Union, get_type_hints\n",
    "import atexit\n",
    "import gradio as gr\n",
    "\n",
    "# Configure logging\n",
    "logging.basicConfig(level=logging.INFO, format=\"%(asctime)s - %(levelname)s - %(message)s\")\n"
   ]
  },
  {
   "cell_type": "code",
   "execution_count": 18,
   "metadata": {},
   "outputs": [
    {
     "name": "stderr",
     "output_type": "stream",
     "text": [
      "2025-02-28 16:13:32,175 - INFO - Loaded functions from file_ops.py: ['ai_create_folders', 'ai_get_file_list', 'ai_get_unique_file_types', 'ai_move_files_to_folder']\n"
     ]
    }
   ],
   "source": [
    "# Function registry (automatically populated)\n",
    "function_registry = {}\n",
    "\n",
    "def load_functions_from_directory(directory: str):\n",
    "    \"\"\"\n",
    "    Scans a directory and its subdirectories for Python files, imports them, and registers functions.\n",
    "\n",
    "    Args:\n",
    "        directory (str): The directory containing function modules.\n",
    "    \"\"\"\n",
    "    global function_registry\n",
    "\n",
    "    if not os.path.isdir(directory):\n",
    "        logging.error(f\"Directory {directory} does not exist!\")\n",
    "        return\n",
    "\n",
    "    for root, _, files in os.walk(directory):  # Recursively walk through subdirectories\n",
    "        for filename in files:\n",
    "            if filename.endswith(\".py\") and not filename.startswith(\"__\"):\n",
    "                module_name = filename[:-3]  # Remove '.py' extension\n",
    "                module_path = os.path.join(root, filename)\n",
    "\n",
    "                # Dynamically load the module\n",
    "                spec = importlib.util.spec_from_file_location(module_name, module_path)\n",
    "                module = importlib.util.module_from_spec(spec)\n",
    "                spec.loader.exec_module(module)\n",
    "\n",
    "                # Register only functions that start with \"ai_\"\n",
    "                for name, func in inspect.getmembers(module, inspect.isfunction):\n",
    "                    if name.startswith(\"ai_\"):  # Naming convention check\n",
    "                        function_registry[name] = func\n",
    "\n",
    "                logging.info(f\"Loaded functions from {filename}: {list(function_registry.keys())}\")\n",
    "\n",
    "load_functions_from_directory(\"functions\")"
   ]
  },
  {
   "cell_type": "code",
   "execution_count": 21,
   "metadata": {},
   "outputs": [
    {
     "name": "stdout",
     "output_type": "stream",
     "text": [
      "[{\"name\": \"ai_create_folders\", \"signature\": \"(unique_file_types: Set[str], base_path: str = '.') -> Dict[str, str]\"}, {\"name\": \"ai_get_file_list\", \"signature\": \"(path: str) -> List[str]\"}, {\"name\": \"ai_get_unique_file_types\", \"signature\": \"(file_list: List[str]) -> Set[str]\"}, {\"name\": \"ai_move_files_to_folder\", \"signature\": \"(source_folder: str, folder_paths: Dict[str, str]) -> None\"}]\n"
     ]
    }
   ],
   "source": [
    "def extract_function_metadata():\n",
    "    \"\"\"\n",
    "    Extracts function names and signatures dynamically.\n",
    "\n",
    "    Returns:\n",
    "        str: JSON-formatted string containing function metadata.\n",
    "    \"\"\"\n",
    "    json_list = [\n",
    "        {\"name\": name, \"signature\": str(inspect.signature(func))}\n",
    "        for name, func in function_registry.items()\n",
    "    ]\n",
    "    \n",
    "    return json.dumps(json_list, indent=2)  # Pretty-print JSON for readability\n",
    "        \n",
    "func_def_n_info = extract_function_metadata()\n",
    "print(func_def_n_info)"
   ]
  },
  {
   "cell_type": "code",
   "execution_count": 20,
   "metadata": {},
   "outputs": [
    {
     "data": {
      "text/plain": [
       "{'ai_create_folders': <function file_ops.ai_create_folders(unique_file_types: Set[str], base_path: str = '.') -> Dict[str, str]>,\n",
       " 'ai_get_file_list': <function file_ops.ai_get_file_list(path: str) -> List[str]>,\n",
       " 'ai_get_unique_file_types': <function file_ops.ai_get_unique_file_types(file_list: List[str]) -> Set[str]>,\n",
       " 'ai_move_files_to_folder': <function file_ops.ai_move_files_to_folder(source_folder: str, folder_paths: Dict[str, str]) -> None>}"
      ]
     },
     "execution_count": 20,
     "metadata": {},
     "output_type": "execute_result"
    }
   ],
   "source": [
    "function_registry"
   ]
  },
  {
   "cell_type": "code",
   "execution_count": null,
   "metadata": {},
   "outputs": [],
   "source": [
    "function_registry"
   ]
  }
 ],
 "metadata": {
  "kernelspec": {
   "display_name": "general",
   "language": "python",
   "name": "python3"
  },
  "language_info": {
   "codemirror_mode": {
    "name": "ipython",
    "version": 3
   },
   "file_extension": ".py",
   "mimetype": "text/x-python",
   "name": "python",
   "nbconvert_exporter": "python",
   "pygments_lexer": "ipython3",
   "version": "3.12.5"
  }
 },
 "nbformat": 4,
 "nbformat_minor": 2
}
