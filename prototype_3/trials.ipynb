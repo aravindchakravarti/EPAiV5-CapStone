{
 "cells": [
  {
   "cell_type": "code",
   "execution_count": 6,
   "metadata": {},
   "outputs": [
    {
     "name": "stdout",
     "output_type": "stream",
     "text": [
      "Send Email to aravind.colab@gmail.com to complete the assignment before 9th March 2025\n",
      "Remind him to work 2 hours daily\n"
     ]
    }
   ],
   "source": [
    "text_file_data = \"\"\n",
    "\n",
    "def ai_read_file(filepath: str) -> None:\n",
    "    \"\"\"\n",
    "    Reads the content of a file and stores it in the global variable 'text_file_data'.\n",
    "\n",
    "    Args:\n",
    "        filepath (str): The path to the file to be read.\n",
    "\n",
    "    Returns:\n",
    "        None\n",
    "\n",
    "    Effects:\n",
    "        Modifies the global variable 'text_file_data' by assigning the file's content to it.\n",
    "        If the file does not exist or cannot be read, an exception will be raised.\n",
    "\n",
    "    Raises:\n",
    "        FileNotFoundError: If the specified file does not exist.\n",
    "        PermissionError: If the user does not have permission to read the file.\n",
    "        UnicodeDecodeError: If the file contains invalid characters and the default encoding is used.\n",
    "        Other I/O related exceptions.\n",
    "    \"\"\"\n",
    "    global text_file_data\n",
    "    with open(filepath, 'r') as file:\n",
    "        text_file_data = file.read()\n",
    "\n",
    "# Example usage:\n",
    "ai_read_file(\"todo.txt\")\n",
    "\n",
    "# Prints the content of the file that was read.\n",
    "print(text_file_data)"
   ]
  },
  {
   "cell_type": "code",
   "execution_count": 2,
   "metadata": {},
   "outputs": [
    {
     "name": "stdout",
     "output_type": "stream",
     "text": [
      "Email sent successfully!\n"
     ]
    }
   ],
   "source": [
    "import os\n",
    "import smtplib\n",
    "from email.mime.text import MIMEText\n",
    "\n",
    "\n",
    "def ai_send_email(subject: str, body: str)-> None:\n",
    "    \"\"\"\n",
    "    Sends an email with the given subject and body using Gmail's SMTP server.\n",
    "\n",
    "    The function retrieves the email password from an environment variable \n",
    "    (`EMAIL_PASSWORD`) for security reasons. \n",
    "\n",
    "    Args:\n",
    "        subject (str): The subject of the email.\n",
    "        body (str): The body/content of the email.\n",
    "\n",
    "    Returns:\n",
    "        None\n",
    "        \n",
    "    Raises:\n",
    "        ValueError: If the EMAIL_PASSWORD environment variable is not set.\n",
    "        Exception: If an error occurs while sending the email.\n",
    "    \"\"\"\n",
    "\n",
    "    # Load email credentials from environment variables\n",
    "    EMAIL_ADDRESS = \"aravind.colab@gmail.com\"\n",
    "    EMAIL_PASSWORD = os.getenv(\"EMAIL_PASSWORD\")  # Fetch from environment variable\n",
    "\n",
    "    if not EMAIL_PASSWORD:\n",
    "        raise ValueError(\"EMAIL_PASSWORD environment variable is not set.\")\n",
    "\n",
    "    # Define sender and recipient email addresses\n",
    "    from_email = EMAIL_ADDRESS\n",
    "    to_email = \"aravind.colab@gmail.com\"  # Change this if sending to a different recipient\n",
    "\n",
    "    # Create the email message\n",
    "    msg = MIMEText(body)\n",
    "    msg[\"From\"] = from_email\n",
    "    msg[\"To\"] = to_email\n",
    "    msg[\"Subject\"] = subject\n",
    "\n",
    "    # Attempt to send the email securely\n",
    "    try:\n",
    "        with smtplib.SMTP(\"smtp.gmail.com\", 587) as server:\n",
    "            server.starttls()  # Secure the connection\n",
    "            server.login(EMAIL_ADDRESS, EMAIL_PASSWORD)  # Authenticate with SMTP server\n",
    "            server.sendmail(EMAIL_ADDRESS, to_email, msg.as_string())  # Send email\n",
    "        print(\"Email sent successfully!\")\n",
    "    except Exception as e:\n",
    "        print(f\"Error: {e}\")  # Print error message if sending fails\n",
    "\n",
    "\n",
    "if __name__ == \"__main__\":\n",
    "    # Example usage of the email function\n",
    "    subject = \"Secure Email\"\n",
    "    body = \"Hello, this is a test email sent from Python with a secured app password.\"\n",
    "    ai_send_email(subject, body)\n"
   ]
  },
  {
   "cell_type": "code",
   "execution_count": 1,
   "metadata": {},
   "outputs": [],
   "source": [
    "import smtplib"
   ]
  },
  {
   "cell_type": "code",
   "execution_count": 5,
   "metadata": {},
   "outputs": [
    {
     "name": "stdout",
     "output_type": "stream",
     "text": [
      "un_organized\\compressed_excel_1.xlsx\n",
      "un_organized\\compressed_image_1.jpg\n",
      "un_organized\\compressed_image_2.jpg\n",
      "un_organized\\compressed_image_3.png\n",
      "un_organized\\compressed_image_4.svg\n",
      "un_organized\\compressed_power_point_1.pptx\n",
      "un_organized\\compressed_python_1.py\n",
      "un_organized\\compressed_python_2.py\n",
      "un_organized\\compressed_text_1.txt\n",
      "un_organized\\compressed_text_2.txt\n",
      "un_organized\\compressed_word_1.docx\n",
      "un_organized\\compressed_word_2.docx\n"
     ]
    }
   ],
   "source": [
    "import os\n",
    "folder_path = 'un_organized'\n",
    "for filename in os.listdir(folder_path):\n",
    "    file_path = os.path.join(folder_path, 'compressed_'+filename)\n",
    "    print(file_path)"
   ]
  },
  {
   "cell_type": "code",
   "execution_count": 4,
   "metadata": {},
   "outputs": [
    {
     "name": "stderr",
     "output_type": "stream",
     "text": [
      "c:\\Users\\achakravarti\\AppData\\Local\\anaconda3\\envs\\general\\Lib\\site-packages\\tqdm\\auto.py:21: TqdmWarning: IProgress not found. Please update jupyter and ipywidgets. See https://ipywidgets.readthedocs.io/en/stable/user_install.html\n",
      "  from .autonotebook import tqdm as notebook_tqdm\n",
      "2025-02-28 15:41:39,880 - INFO - HTTP Request: GET https://api.gradio.app/gradio-messaging/en \"HTTP/1.1 200 OK\"\n"
     ]
    }
   ],
   "source": [
    "import os\n",
    "import json\n",
    "import logging\n",
    "import inspect\n",
    "import importlib.util\n",
    "from google import genai\n",
    "from google.genai import types\n",
    "from dotenv import load_dotenv, find_dotenv\n",
    "from typing import Union, get_type_hints\n",
    "import atexit\n",
    "import gradio as gr\n",
    "\n",
    "# Configure logging\n",
    "logging.basicConfig(level=logging.INFO, format=\"%(asctime)s - %(levelname)s - %(message)s\")\n"
   ]
  },
  {
   "cell_type": "code",
   "execution_count": 22,
   "metadata": {},
   "outputs": [
    {
     "name": "stderr",
     "output_type": "stream",
     "text": [
      "2025-02-28 16:18:01,926 - INFO - Loaded functions from file_ops.py: ['ai_create_folders', 'ai_get_file_list', 'ai_get_unique_file_types', 'ai_move_files_to_folder']\n"
     ]
    }
   ],
   "source": [
    "# Function registry (automatically populated)\n",
    "function_registry = {}\n",
    "\n",
    "def load_functions_from_directory(directory: str):\n",
    "    \"\"\"\n",
    "    Scans a directory and its subdirectories for Python files, imports them, and registers functions.\n",
    "\n",
    "    Args:\n",
    "        directory (str): The directory containing function modules.\n",
    "    \"\"\"\n",
    "    global function_registry\n",
    "\n",
    "    if not os.path.isdir(directory):\n",
    "        logging.error(f\"Directory {directory} does not exist!\")\n",
    "        return\n",
    "\n",
    "    for root, _, files in os.walk(directory):  # Recursively walk through subdirectories\n",
    "        for filename in files:\n",
    "            if filename.endswith(\".py\") and not filename.startswith(\"__\"):\n",
    "                module_name = filename[:-3]  # Remove '.py' extension\n",
    "                module_path = os.path.join(root, filename)\n",
    "\n",
    "                # Dynamically load the module\n",
    "                spec = importlib.util.spec_from_file_location(module_name, module_path)\n",
    "                module = importlib.util.module_from_spec(spec)\n",
    "                spec.loader.exec_module(module)\n",
    "\n",
    "                # Register only functions that start with \"ai_\"\n",
    "                for name, func in inspect.getmembers(module, inspect.isfunction):\n",
    "                    if name.startswith(\"ai_\"):  # Naming convention check\n",
    "                        function_registry[name] = func\n",
    "\n",
    "                logging.info(f\"Loaded functions from {filename}: {list(function_registry.keys())}\")\n",
    "\n",
    "load_functions_from_directory(\"functions\")"
   ]
  },
  {
   "cell_type": "code",
   "execution_count": 23,
   "metadata": {},
   "outputs": [
    {
     "name": "stdout",
     "output_type": "stream",
     "text": [
      "[\n",
      "  {\n",
      "    \"name\": \"ai_create_folders\",\n",
      "    \"signature\": \"(unique_file_types: Set[str], base_path: str = '.') -> Dict[str, str]\"\n",
      "  },\n",
      "  {\n",
      "    \"name\": \"ai_get_file_list\",\n",
      "    \"signature\": \"(path: str) -> List[str]\"\n",
      "  },\n",
      "  {\n",
      "    \"name\": \"ai_get_unique_file_types\",\n",
      "    \"signature\": \"(file_list: List[str]) -> Set[str]\"\n",
      "  },\n",
      "  {\n",
      "    \"name\": \"ai_move_files_to_folder\",\n",
      "    \"signature\": \"(source_folder: str, folder_paths: Dict[str, str]) -> None\"\n",
      "  }\n",
      "]\n"
     ]
    }
   ],
   "source": [
    "def extract_function_metadata():\n",
    "    \"\"\"\n",
    "    Extracts function names and signatures dynamically.\n",
    "\n",
    "    Returns:\n",
    "        str: JSON-formatted string containing function metadata.\n",
    "    \"\"\"\n",
    "    json_list = [\n",
    "        {\"name\": name, \"signature\": str(inspect.signature(func))}\n",
    "        for name, func in function_registry.items()\n",
    "    ]\n",
    "    \n",
    "    return json.dumps(json_list, indent=2)  # Pretty-print JSON for readability\n",
    "        \n",
    "func_def_n_info = extract_function_metadata()\n",
    "print(func_def_n_info)"
   ]
  },
  {
   "cell_type": "code",
   "execution_count": 20,
   "metadata": {},
   "outputs": [
    {
     "data": {
      "text/plain": [
       "{'ai_create_folders': <function file_ops.ai_create_folders(unique_file_types: Set[str], base_path: str = '.') -> Dict[str, str]>,\n",
       " 'ai_get_file_list': <function file_ops.ai_get_file_list(path: str) -> List[str]>,\n",
       " 'ai_get_unique_file_types': <function file_ops.ai_get_unique_file_types(file_list: List[str]) -> Set[str]>,\n",
       " 'ai_move_files_to_folder': <function file_ops.ai_move_files_to_folder(source_folder: str, folder_paths: Dict[str, str]) -> None>}"
      ]
     },
     "execution_count": 20,
     "metadata": {},
     "output_type": "execute_result"
    }
   ],
   "source": [
    "function_registry"
   ]
  },
  {
   "cell_type": "code",
   "execution_count": 25,
   "metadata": {},
   "outputs": [
    {
     "data": {
      "text/plain": [
       "'```python\\n[\\n  \"List all files in the \\'un_organized\\' folder.\",\\n  \"Identify the unique file types from the list of files.\",\\n  \"Create new folders based on the unique file types within the \\'un_organized\\' folder.\",\\n  \"Move the files from the \\'un_organized\\' folder into their respective folders based on file type.\"\\n]\\n```'"
      ]
     },
     "execution_count": 25,
     "metadata": {},
     "output_type": "execute_result"
    }
   ],
   "source": [
    "llm_response = \"\"\"```python\n",
    "[\n",
    "  \"List all files in the 'un_organized' folder.\",\n",
    "  \"Identify the unique file types from the list of files.\",\n",
    "  \"Create new folders based on the unique file types within the 'un_organized' folder.\",\n",
    "  \"Move the files from the 'un_organized' folder into their respective folders based on file type.\"\n",
    "]\n",
    "```\"\"\"\n",
    "\n",
    "llm_response"
   ]
  }
 ],
 "metadata": {
  "kernelspec": {
   "display_name": "general",
   "language": "python",
   "name": "python3"
  },
  "language_info": {
   "codemirror_mode": {
    "name": "ipython",
    "version": 3
   },
   "file_extension": ".py",
   "mimetype": "text/x-python",
   "name": "python",
   "nbconvert_exporter": "python",
   "pygments_lexer": "ipython3",
   "version": "3.12.5"
  }
 },
 "nbformat": 4,
 "nbformat_minor": 2
}
